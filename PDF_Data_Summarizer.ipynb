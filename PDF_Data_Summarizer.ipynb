{
 "cells": [
  {
   "cell_type": "markdown",
   "id": "4f869c48-7398-4f99-818a-ff6c9a845abc",
   "metadata": {},
   "source": [
    "# Code for PDF Data Summarizer"
   ]
  },
  {
   "cell_type": "code",
   "execution_count": 3,
   "id": "a347362d-1d60-48ce-b663-dd49eb41a10d",
   "metadata": {},
   "outputs": [],
   "source": [
    "import streamlit as st\n",
    "import PyPDF2\n",
    "from sumy.parsers.plaintext import PlaintextParser\n",
    "from sumy.summarizers.lsa import LsaSummarizer\n",
    "from nltk.tokenize import sent_tokenize, word_tokenize\n",
    "import nltk\n",
    "import os\n"
   ]
  },
  {
   "cell_type": "markdown",
   "id": "a58ee007-fe57-4652-9707-86a7538a8bb4",
   "metadata": {},
   "source": [
    "### Set page Configuration"
   ]
  },
  {
   "cell_type": "code",
   "execution_count": 4,
   "id": "2dcb8daa-3aad-4c4f-85f4-55fdda24ec84",
   "metadata": {},
   "outputs": [],
   "source": [
    "st.set_page_config(page_title=\"PDF Data Summarizer\", page_icon=\"C://Users//Jai//Downloads//data.PNG\")\n"
   ]
  },
  {
   "cell_type": "markdown",
   "id": "730154a4-7f35-420e-9c72-d53cdf2cd985",
   "metadata": {},
   "source": [
    "### CSS to center the file uploader"
   ]
  },
  {
   "cell_type": "code",
   "execution_count": 5,
   "id": "d435eaea-0287-470a-9712-41b3a9399b7c",
   "metadata": {},
   "outputs": [
    {
     "name": "stderr",
     "output_type": "stream",
     "text": [
      "2024-06-29 23:17:41.996 \n",
      "  \u001b[33m\u001b[1mWarning:\u001b[0m to view this Streamlit app on a browser, run it with the following\n",
      "  command:\n",
      "\n",
      "    streamlit run C:\\Users\\Jai\\anaconda3\\Lib\\site-packages\\ipykernel_launcher.py [ARGUMENTS]\n"
     ]
    },
    {
     "data": {
      "text/plain": [
       "DeltaGenerator()"
      ]
     },
     "execution_count": 5,
     "metadata": {},
     "output_type": "execute_result"
    }
   ],
   "source": [
    "st.markdown(\n",
    "    \"\"\"\n",
    "    <style>\n",
    "    .block-container {\n",
    "        display: flex;\n",
    "        justify-content: center;\n",
    "        align-items: center;\n",
    "        height: 100vh;\n",
    "    }\n",
    "    </style>\n",
    "    \"\"\",\n",
    "    unsafe_allow_html=True,\n",
    ")\n"
   ]
  },
  {
   "cell_type": "markdown",
   "id": "08608720-2c2e-4e1b-b5ad-a31eb90253a1",
   "metadata": {},
   "source": [
    "### App title"
   ]
  },
  {
   "cell_type": "code",
   "execution_count": 6,
   "id": "050781a2-5539-4d57-98c3-f10e29ef3c1d",
   "metadata": {},
   "outputs": [
    {
     "data": {
      "text/plain": [
       "DeltaGenerator()"
      ]
     },
     "execution_count": 6,
     "metadata": {},
     "output_type": "execute_result"
    }
   ],
   "source": [
    "st.title(\"PDF Data Summarizer\")"
   ]
  },
  {
   "cell_type": "markdown",
   "id": "55e31340-0caf-4bd7-918f-02a8808e6bea",
   "metadata": {},
   "source": [
    "### Create 'uploads' directory if it doesn't exist"
   ]
  },
  {
   "cell_type": "code",
   "execution_count": 7,
   "id": "7c290ffa-852f-42d8-870a-8ea7fbd7b49b",
   "metadata": {},
   "outputs": [],
   "source": [
    "if not os.path.exists('uploads'):\n",
    "    os.makedirs('uploads')"
   ]
  },
  {
   "cell_type": "markdown",
   "id": "7e360840-b279-4250-9b82-060d7e4702c9",
   "metadata": {},
   "source": [
    "### File uploader widget"
   ]
  },
  {
   "cell_type": "code",
   "execution_count": 8,
   "id": "e71c5720-fd2c-4961-8a1a-d0ebd9ab209b",
   "metadata": {},
   "outputs": [],
   "source": [
    "uploaded_file = st.file_uploader(\"Upload a PDF file\", type=[\"pdf\"])"
   ]
  },
  {
   "cell_type": "markdown",
   "id": "640a4ca2-7509-49a4-b99d-425476a635fb",
   "metadata": {},
   "source": [
    "### NLTKTokenizer to seperate sentences and words"
   ]
  },
  {
   "cell_type": "code",
   "execution_count": 9,
   "id": "82a38b55-bf2e-4c66-86d8-896f11b77f55",
   "metadata": {},
   "outputs": [],
   "source": [
    "class NLTKTokenizer:\n",
    "    @staticmethod\n",
    "    def to_sentences(text):\n",
    "        return sent_tokenize(text)\n",
    "\n",
    "    @staticmethod\n",
    "    def to_words(text):\n",
    "        return word_tokenize(text)"
   ]
  },
  {
   "cell_type": "code",
   "execution_count": 10,
   "id": "fb1a76f2-2646-4cae-942b-a51ced9a612a",
   "metadata": {},
   "outputs": [],
   "source": [
    "def summarize_text(text, num_sentences=5):\n",
    "    parser = PlaintextParser.from_string(text, NLTKTokenizer)\n",
    "    summarizer = LsaSummarizer()\n",
    "    summary = summarizer(parser.document, num_sentences)\n",
    "    summary_text = \"\\n\".join([str(sentence) for sentence in summary])\n",
    "    return summary_text"
   ]
  },
  {
   "cell_type": "code",
   "execution_count": 11,
   "id": "1216db92-7723-4abf-82d3-5ef2f29383e9",
   "metadata": {},
   "outputs": [],
   "source": [
    "if uploaded_file is not None:\n",
    "    try:\n",
    "        # Open the PDF file\n",
    "        pdf_reader = PyPDF2.PdfReader(uploaded_file)\n",
    "\n",
    "        # Print the number of pages in the PDF\n",
    "        st.write(f'The PDF document has {len(pdf_reader.pages)} pages.')\n",
    "\n",
    "        # Extract text from each page\n",
    "        full_text = \"\"\n",
    "        for page_num in range(len(pdf_reader.pages)):\n",
    "            page = pdf_reader.pages[page_num]\n",
    "            text = page.extract_text()\n",
    "            full_text += text\n",
    "\n",
    "        # Display the full text\n",
    "        st.subheader(\"Full Text\")\n",
    "        st.write(full_text)\n",
    "\n",
    "        # Summarize the text\n",
    "        summary = summarize_text(full_text)\n",
    "        st.subheader(\"Summary\")\n",
    "        st.write(summary)\n",
    "\n",
    "        # Optionally save the uploaded file\n",
    "        with open(os.path.join(\"uploads\", uploaded_file.name), \"wb\") as f:\n",
    "            f.write(uploaded_file.getbuffer())\n",
    "        st.success(\"File saved successfully!\")\n",
    "        \n",
    "    except Exception as e:\n",
    "        st.error(f\"An error occurred: {e}\")\n",
    "\n",
    "else:\n",
    "    st.write(\"No file uploaded yet. Please upload a PDF file.\")"
   ]
  }
 ],
 "metadata": {
  "kernelspec": {
   "display_name": "Python 3 (ipykernel)",
   "language": "python",
   "name": "python3"
  },
  "language_info": {
   "codemirror_mode": {
    "name": "ipython",
    "version": 3
   },
   "file_extension": ".py",
   "mimetype": "text/x-python",
   "name": "python",
   "nbconvert_exporter": "python",
   "pygments_lexer": "ipython3",
   "version": "3.11.7"
  }
 },
 "nbformat": 4,
 "nbformat_minor": 5
}
